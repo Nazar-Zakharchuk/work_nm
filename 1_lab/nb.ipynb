{
 "cells": [
  {
   "cell_type": "markdown",
   "metadata": {},
   "source": [
    "## Працюємо з Python\n",
    "> розібємо програмну частини, які помістив в різні комірки та розпишемо пояснення до неї.\n",
    "\n",
    "- комірка з імпортом бібліотек:"
   ]
  },
  {
   "cell_type": "code",
   "execution_count": null,
   "metadata": {},
   "outputs": [],
   "source": []
  }
 ],
 "metadata": {
  "language_info": {
   "name": "python"
  }
 },
 "nbformat": 4,
 "nbformat_minor": 2
}
