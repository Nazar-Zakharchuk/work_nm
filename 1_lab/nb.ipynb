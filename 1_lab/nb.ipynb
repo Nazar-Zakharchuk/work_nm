{
 "cells": [
  {
   "cell_type": "markdown",
   "metadata": {},
   "source": [
    "## Працюємо з Python\n",
    "> розібємо програмну частини, які помістив в різні комірки та розпишемо пояснення до неї.\n",
    "\n",
    "- комірка з імпортом бібліотек:"
   ]
  },
  {
   "cell_type": "code",
   "execution_count": 3,
   "metadata": {},
   "outputs": [],
   "source": [
    "from datetime import datetime"
   ]
  },
  {
   "cell_type": "markdown",
   "metadata": {},
   "source": [
    "- комірка для задання змінних:"
   ]
  },
  {
   "cell_type": "code",
   "execution_count": 4,
   "metadata": {},
   "outputs": [],
   "source": [
    "name = \"Назар\"\n",
    "location = \"Україна\""
   ]
  },
  {
   "cell_type": "markdown",
   "metadata": {},
   "source": [
    "- виводимо текст першої програми:"
   ]
  },
  {
   "cell_type": "code",
   "execution_count": 5,
   "metadata": {},
   "outputs": [
    {
     "name": "stdout",
     "output_type": "stream",
     "text": [
      "Назар розпочав вчитись програмуванню о 2023-12-19 15:08:21.443765.\n",
      "Доброго вечора ми з Україна\n"
     ]
    }
   ],
   "source": [
    "print(f\"{name} розпочав вчитись програмуванню о {datetime.now()}.\\nДоброго вечора ми з {location}\")"
   ]
  },
  {
   "cell_type": "markdown",
   "metadata": {},
   "source": [
    "# Запитався в ChatGPT як би він написав першу програму\n",
    "\n",
    "Ось початкова програма на мові Python разом з поясненнями, яку можна вставити у Jupyter Notebook. Ця програма виведе привітання на екран:"
   ]
  },
  {
   "cell_type": "markdown",
   "metadata": {},
   "source": [
    "# Початкова програма на Python"
   ]
  },
  {
   "cell_type": "code",
   "execution_count": 6,
   "metadata": {},
   "outputs": [
    {
     "name": "stdout",
     "output_type": "stream",
     "text": [
      "Привіт, світе!\n"
     ]
    }
   ],
   "source": [
    "print(\"Привіт, світе!\")"
   ]
  },
  {
   "cell_type": "markdown",
   "metadata": {},
   "source": [
    "В даному коді ми використовуємо функцію print() для виведення рядка \"Привіт, світе!\" на екран."
   ]
  }
 ],
 "metadata": {
  "kernelspec": {
   "display_name": "Python 3",
   "language": "python",
   "name": "python3"
  },
  "language_info": {
   "codemirror_mode": {
    "name": "ipython",
    "version": 3
   },
   "file_extension": ".py",
   "mimetype": "text/x-python",
   "name": "python",
   "nbconvert_exporter": "python",
   "pygments_lexer": "ipython3",
   "version": "3.11.2"
  }
 },
 "nbformat": 4,
 "nbformat_minor": 2
}
